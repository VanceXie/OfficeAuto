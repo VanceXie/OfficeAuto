{
 "cells": [
  {
   "cell_type": "code",
   "execution_count": null,
   "metadata": {
    "collapsed": true
   },
   "outputs": [],
   "source": [
    "import os\n",
    "import cv2\n",
    "import numpy as np"
   ]
  },
  {
   "cell_type": "code",
   "execution_count": null,
   "outputs": [],
   "source": [
    "images_dir = r'D:\\ProgramData\\Temp\\BP3730-2\\L N'\n",
    "n = 64  # 重设大小后的图片大小（n x n）\n",
    "beta = 0.8  # 相关系数阈值"
   ],
   "metadata": {
    "collapsed": false
   }
  },
  {
   "cell_type": "code",
   "execution_count": null,
   "outputs": [],
   "source": [
    "# Step 1: 获取图片路径列表\n",
    "images_path_list = [os.path.join(images_dir, filename) for filename in os.listdir(images_dir)]"
   ],
   "metadata": {
    "collapsed": false
   }
  },
  {
   "cell_type": "code",
   "execution_count": null,
   "outputs": [],
   "source": [
    "# Step 2: 读取并resize图片，并形成二维数组\n",
    "images = [(cv2.resize((cv2.imdecode(np.fromfile(image_path, np.uint8), 0)), (n, n))).ravel() for image_path in images_path_list]"
   ],
   "metadata": {
    "collapsed": false
   }
  },
  {
   "cell_type": "code",
   "execution_count": null,
   "outputs": [],
   "source": [
    "# Step 3: 计算相关系数,并将对角线元素设为0\n",
    "corr_matrix = np.corrcoef(images)\n",
    "np.fill_diagonal(corr_matrix, 0)"
   ],
   "metadata": {
    "collapsed": false
   }
  },
  {
   "cell_type": "code",
   "execution_count": null,
   "outputs": [],
   "source": [
    "# Step 4: 找到相关系数大于beta的相似图片\n",
    "similar_images = np.argwhere(corr_matrix > beta)"
   ],
   "metadata": {
    "collapsed": false
   }
  },
  {
   "cell_type": "code",
   "execution_count": null,
   "outputs": [],
   "source": [
    "# Step 5: 构建相似组\n",
    "groups = []\n",
    "for pair in similar_images:\n",
    "\tadded = False\n",
    "\tfor group in groups:\n",
    "\t\tif pair[0] in group or pair[1] in group:\n",
    "\t\t\tgroup.add(pair[0])\n",
    "\t\t\tgroup.add(pair[1])\n",
    "\t\t\tadded = True\n",
    "\t\t\tbreak\n",
    "\tif not added:\n",
    "\t\tgroups.append(set(pair))"
   ],
   "metadata": {
    "collapsed": false
   }
  },
  {
   "cell_type": "code",
   "execution_count": null,
   "outputs": [],
   "source": [
    "# Step 6: 删除相似组中的重复图片\n",
    "for group in groups:\n",
    "\tkeep_index = min(group)  # 保留相似组中的第一张图片\n",
    "\tfor index in group:\n",
    "\t\tif index != keep_index:\n",
    "\t\t\tos.remove(images_path_list[index])\n"
   ],
   "metadata": {
    "collapsed": false
   }
  },
  {
   "cell_type": "code",
   "execution_count": 3,
   "outputs": [],
   "source": [
    "import os\n",
    "\n",
    "path = r'D:\\ProgramData\\Temp\\[Marugaogaski]'\n",
    "for i in range(3):\n",
    "\tdir = os.path.join(path, '手' + str(i + 1))\n",
    "\tif not os.path.exists(dir):\n",
    "\t\tos.makedirs(dir)\n"
   ],
   "metadata": {
    "collapsed": false,
    "ExecuteTime": {
     "end_time": "2023-06-16T17:52:07.430496700Z",
     "start_time": "2023-06-16T17:52:07.417508Z"
    }
   }
  }
 ],
 "metadata": {
  "kernelspec": {
   "display_name": "Python 3",
   "language": "python",
   "name": "python3"
  },
  "language_info": {
   "codemirror_mode": {
    "name": "ipython",
    "version": 2
   },
   "file_extension": ".py",
   "mimetype": "text/x-python",
   "name": "python",
   "nbconvert_exporter": "python",
   "pygments_lexer": "ipython2",
   "version": "2.7.6"
  }
 },
 "nbformat": 4,
 "nbformat_minor": 0
}
